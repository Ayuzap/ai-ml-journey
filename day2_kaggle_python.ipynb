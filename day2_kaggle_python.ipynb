{
  "nbformat": 4,
  "nbformat_minor": 0,
  "metadata": {
    "colab": {
      "provenance": [],
      "authorship_tag": "ABX9TyOIyAnluouCucJrX3d8qwJU",
      "include_colab_link": true
    },
    "kernelspec": {
      "name": "python3",
      "display_name": "Python 3"
    },
    "language_info": {
      "name": "python"
    }
  },
  "cells": [
    {
      "cell_type": "markdown",
      "metadata": {
        "id": "view-in-github",
        "colab_type": "text"
      },
      "source": [
        "<a href=\"https://colab.research.google.com/github/Ayuzap/ai-ml-journey/blob/main/day2_kaggle_python.ipynb\" target=\"_parent\"><img src=\"https://colab.research.google.com/assets/colab-badge.svg\" alt=\"Open In Colab\"/></a>"
      ]
    },
    {
      "cell_type": "markdown",
      "source": [
        "# Step 3 : Booleans and Conditionals\n",
        "\n"
      ],
      "metadata": {
        "id": "rtZaESOJgqRF"
      }
    },
    {
      "cell_type": "markdown",
      "source": [
        "  # Booleans:"
      ],
      "metadata": {
        "id": "Xz68fD1ahUos"
      }
    },
    {
      "cell_type": "code",
      "execution_count": 11,
      "metadata": {
        "colab": {
          "base_uri": "https://localhost:8080/"
        },
        "id": "4UQ09tlMYWon",
        "outputId": "699c8106-0a55-46cc-b64b-126ea8b2dbb7"
      },
      "outputs": [
        {
          "output_type": "stream",
          "name": "stdout",
          "text": [
            "False\n",
            "<class 'bool'>\n"
          ]
        }
      ],
      "source": [
        "x = False\n",
        "print(x)\n",
        "print(type(x))"
      ]
    },
    {
      "cell_type": "code",
      "source": [
        "def can_you_drive(age):\n",
        "  \"\"\"Can someone of this age drive a car?\"\"\"\n",
        "  #Considering 18 to be the age limit for legally driving a car\n",
        "  return age >= 18\n",
        "\n",
        "print(\"Can a 19-year-old drive a car?\",can_you_drive(19))\n",
        "print(\"Can a 17-year-old drive a car?\",can_you_drive(17))"
      ],
      "metadata": {
        "colab": {
          "base_uri": "https://localhost:8080/"
        },
        "id": "r4DhKC0aZ_fh",
        "outputId": "69af06cb-eab0-4f53-e483-f9c4c9dd5d6c"
      },
      "execution_count": 12,
      "outputs": [
        {
          "output_type": "stream",
          "name": "stdout",
          "text": [
            "Can a 19-year-old drive a car? True\n",
            "Can a 17-year-old drive a car? False\n"
          ]
        }
      ]
    },
    {
      "cell_type": "code",
      "source": [
        "print(3.0 == 3)\n",
        "print(4 == '4')"
      ],
      "metadata": {
        "colab": {
          "base_uri": "https://localhost:8080/"
        },
        "id": "3OJdQdtCblkC",
        "outputId": "61180e9c-0ff9-4e47-b439-2dc6ec520b1d"
      },
      "execution_count": 13,
      "outputs": [
        {
          "output_type": "stream",
          "name": "stdout",
          "text": [
            "True\n",
            "False\n"
          ]
        }
      ]
    },
    {
      "cell_type": "markdown",
      "source": [
        "`NOTE:`\n",
        "\n",
        "Writing n == 2 means we are asking about the value of n.\n",
        "\n",
        "Writing n = 2 means we are changing the value of n."
      ],
      "metadata": {
        "id": "-APQGRQodfKj"
      }
    },
    {
      "cell_type": "code",
      "source": [
        "def is_Even(n):\n",
        "  \"\"\"Tells If the number is Even or not\"\"\"\n",
        "  return n%2 == 0\n",
        "\n",
        "print(\"Is 10 Even?\",is_Even(10))\n",
        "print(\"Is 55 Even?\",is_Even(55))"
      ],
      "metadata": {
        "colab": {
          "base_uri": "https://localhost:8080/"
        },
        "id": "XSwvBYUed04A",
        "outputId": "ef69e816-3c81-4a7a-9aad-3bf49fb9d0ad"
      },
      "execution_count": 14,
      "outputs": [
        {
          "output_type": "stream",
          "name": "stdout",
          "text": [
            "Is 10 Even? True\n",
            "Is 55 Even? False\n"
          ]
        }
      ]
    },
    {
      "cell_type": "code",
      "source": [
        "def prepared_for_weather(have_umbrella,rain_level,have_hood,is_workday):\n",
        "    \"\"\"Tells If you are prepared for the weather or not\"\"\"\n",
        "    print(\n",
        "\n",
        "    have_umbrella\n",
        "    or ((rain_level < 5) and have_hood)\n",
        "    or (not (rain_level > 0 and is_workday))\n",
        "    )\n",
        "\n",
        "\n",
        "prepared_for_weather(True,4,False,True)\n"
      ],
      "metadata": {
        "colab": {
          "base_uri": "https://localhost:8080/"
        },
        "id": "6GYwgmJFfdtQ",
        "outputId": "7e1bbcca-125b-4334-f7fa-51599deda766"
      },
      "execution_count": 15,
      "outputs": [
        {
          "output_type": "stream",
          "name": "stdout",
          "text": [
            "True\n"
          ]
        }
      ]
    },
    {
      "cell_type": "markdown",
      "source": [
        "From the above example, we can see that we can combine boolean values using standard concepts of \"and\", \"or\", and \"not\"."
      ],
      "metadata": {
        "id": "PHi050L9gVNa"
      }
    },
    {
      "cell_type": "markdown",
      "source": [
        "  # Conditionals"
      ],
      "metadata": {
        "id": "9ogM4gsihSJ9"
      }
    },
    {
      "cell_type": "markdown",
      "source": [
        "In Python, `else if` becomes `elif`"
      ],
      "metadata": {
        "id": "upFqiKCSHZVl"
      }
    },
    {
      "cell_type": "code",
      "source": [
        "def inspect(x):\n",
        "  if x==0:\n",
        "    print(x,\"is zero\")\n",
        "  elif x>0:\n",
        "    print(x,\"is positive\")\n",
        "  elif x<0:\n",
        "    print(x,\"is negative\")\n",
        "  else:\n",
        "    print(x,\"is something that I don't know\")\n",
        "\n",
        "inspect(0)\n",
        "inspect(2)\n",
        "inspect(-1)\n"
      ],
      "metadata": {
        "id": "S-qYMUmngyIZ",
        "colab": {
          "base_uri": "https://localhost:8080/"
        },
        "outputId": "3abd7a72-b740-4815-ca60-0270df1465cc"
      },
      "execution_count": 16,
      "outputs": [
        {
          "output_type": "stream",
          "name": "stdout",
          "text": [
            "0 is zero\n",
            "2 is positive\n",
            "-1 is negative\n"
          ]
        }
      ]
    },
    {
      "cell_type": "markdown",
      "source": [
        "Example of how indentation works:"
      ],
      "metadata": {
        "id": "FKf92f2UJpF2"
      }
    },
    {
      "cell_type": "code",
      "source": [
        "def f(x):\n",
        "    if x==0:\n",
        "        print(\"only printed when x is zero; x =\", x)\n",
        "        print(\"Also only printed when x is zero; x =\", x)\n",
        "    print(\"Always printed, regardless of x's value; x =\", x) #this line is out of the function's indentation,\n",
        "                                                             #so it's not a part of the function, therefore it get's executed everytime\n",
        "\n",
        "f(0)\n",
        "f(1)"
      ],
      "metadata": {
        "colab": {
          "base_uri": "https://localhost:8080/"
        },
        "id": "8krpucM2IQkT",
        "outputId": "7cdafb49-48c4-46a9-fe02-a693eb759436"
      },
      "execution_count": 17,
      "outputs": [
        {
          "output_type": "stream",
          "name": "stdout",
          "text": [
            "only printed when x is zero; x = 0\n",
            "Also only printed when x is zero; x = 0\n",
            "Always printed, regardless of x's value; x = 0\n",
            "Always printed, regardless of x's value; x = 1\n"
          ]
        }
      ]
    },
    {
      "cell_type": "markdown",
      "source": [
        "There is a function `bool()` which converts things into boolean datatype\n",
        "\n",
        "`NOTE`: All Numbers, Strings are treated as True except `0` and `\"\"`(empty string)\n",
        "\n",
        "Below is an example to show this:"
      ],
      "metadata": {
        "id": "rt3DmsJMJuGZ"
      }
    },
    {
      "cell_type": "code",
      "source": [
        "print(bool(0))\n",
        "print(bool(2))\n",
        "print(bool(2.0))\n",
        "print(bool(\"abcd\"))\n",
        "print(bool(\"\"))"
      ],
      "metadata": {
        "colab": {
          "base_uri": "https://localhost:8080/"
        },
        "id": "jsTt5q6PKhMq",
        "outputId": "ba1ceb82-11fa-48c5-9406-5e1dcb1ef826"
      },
      "execution_count": 18,
      "outputs": [
        {
          "output_type": "stream",
          "name": "stdout",
          "text": [
            "False\n",
            "True\n",
            "True\n",
            "True\n",
            "False\n"
          ]
        }
      ]
    },
    {
      "cell_type": "markdown",
      "source": [
        "`NOTE`: We can use non-boolean objects in `if` conditions and other places where a boolean would be expected. Python will implicitly treat them as their corresponding boolean value\n",
        "Below is an example:"
      ],
      "metadata": {
        "id": "szREM7IzK5zb"
      }
    },
    {
      "cell_type": "code",
      "source": [
        "if \"abcd\":\n",
        "  print(\"YES\")\n",
        "else:\n",
        "  print(\"NO\")\n",
        "\n"
      ],
      "metadata": {
        "colab": {
          "base_uri": "https://localhost:8080/"
        },
        "id": "NmuLPgAWLDdX",
        "outputId": "555808a0-1fd4-4eea-c8d1-e81fe49ede8b"
      },
      "execution_count": 19,
      "outputs": [
        {
          "output_type": "stream",
          "name": "stdout",
          "text": [
            "YES\n"
          ]
        }
      ]
    },
    {
      "cell_type": "code",
      "source": [
        "if 0:\n",
        "  print(\"Hello\")\n",
        "else:\n",
        "  print(\"Bye\")"
      ],
      "metadata": {
        "colab": {
          "base_uri": "https://localhost:8080/"
        },
        "id": "d2lbvsltLZWD",
        "outputId": "a1014160-b7c8-42b5-881a-6e39170a688a"
      },
      "execution_count": 20,
      "outputs": [
        {
          "output_type": "stream",
          "name": "stdout",
          "text": [
            "Bye\n"
          ]
        }
      ]
    },
    {
      "cell_type": "markdown",
      "source": [
        "# Takeaways from Questions:\n"
      ],
      "metadata": {
        "id": "5qLKVoi5Lv-O"
      }
    },
    {
      "cell_type": "code",
      "source": [
        "def is_negative(number):\n",
        "    if number < 0:\n",
        "        return True\n",
        "    else:\n",
        "        return False\n",
        "\n",
        "def concise_is_negative(number):\n",
        "    return True if number<0 else False"
      ],
      "metadata": {
        "id": "qF7Lb4pqToBs"
      },
      "execution_count": 21,
      "outputs": []
    },
    {
      "cell_type": "markdown",
      "source": [
        "In the above code, it's shown how we can decrease the size of `is_negative` by almost 75%"
      ],
      "metadata": {
        "id": "xKt9HKJyTpiF"
      }
    },
    {
      "cell_type": "code",
      "source": [
        "def exactly_one_topping(ketchup, mustard, onion):\n",
        "    \"\"\"Return whether the customer wants exactly one of the three available toppings\n",
        "    on their hot dog.\n",
        "    \"\"\"\n",
        "    return ((ketchup) and not(mustard or onion))or((mustard) and not(ketchup or onion))or((onion) and not(ketchup or mustard))\n",
        "\n",
        "exactly_one_topping(1,0,0)\n"
      ],
      "metadata": {
        "colab": {
          "base_uri": "https://localhost:8080/"
        },
        "id": "SEsAJTJR-9nU",
        "outputId": "1e1040a1-994e-4c6b-9f73-3ff1a8dcc2ef"
      },
      "execution_count": 22,
      "outputs": [
        {
          "output_type": "execute_result",
          "data": {
            "text/plain": [
              "True"
            ]
          },
          "metadata": {},
          "execution_count": 22
        }
      ]
    },
    {
      "cell_type": "markdown",
      "source": [
        "The above code is easier when we convert bool to int :"
      ],
      "metadata": {
        "id": "1yDfBypN-_RF"
      }
    },
    {
      "cell_type": "code",
      "source": [
        "def exactly_one_topping(ketchup, mustard, onion):\n",
        "    \"\"\"Return whether the customer wants exactly one of the three available toppings\n",
        "    on their hot dog.\n",
        "    \"\"\"\n",
        "    return (int(ketchup) + int(mustard) + int(onion)) == 1\n",
        "\n",
        "exactly_one_topping(1,0,0)\n"
      ],
      "metadata": {
        "colab": {
          "base_uri": "https://localhost:8080/"
        },
        "id": "xne03EG0_GYf",
        "outputId": "5664492c-f25b-4ad7-b934-9dc4b03289da"
      },
      "execution_count": 23,
      "outputs": [
        {
          "output_type": "execute_result",
          "data": {
            "text/plain": [
              "True"
            ]
          },
          "metadata": {},
          "execution_count": 23
        }
      ]
    },
    {
      "cell_type": "markdown",
      "source": [
        "Infact, Python implicitly does the integer conversion. So we could also write..."
      ],
      "metadata": {
        "id": "ApM0xA7a_hlx"
      }
    },
    {
      "cell_type": "code",
      "source": [
        "def exactly_one_topping(ketchup, mustard, onion):\n",
        "    \"\"\"Return whether the customer wants exactly one of the three available toppings\n",
        "    on their hot dog.\n",
        "    \"\"\"\n",
        "    return (ketchup + mustard + onion) == 1\n",
        "\n",
        "exactly_one_topping(1,0,0)"
      ],
      "metadata": {
        "colab": {
          "base_uri": "https://localhost:8080/"
        },
        "id": "_dupbzc__oAH",
        "outputId": "5b86efb3-373c-4368-a8bc-566a8ba9cf93"
      },
      "execution_count": 24,
      "outputs": [
        {
          "output_type": "execute_result",
          "data": {
            "text/plain": [
              "True"
            ]
          },
          "metadata": {},
          "execution_count": 24
        }
      ]
    }
  ]
}