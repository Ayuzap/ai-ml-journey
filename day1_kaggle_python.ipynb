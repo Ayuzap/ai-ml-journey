{
  "nbformat": 4,
  "nbformat_minor": 0,
  "metadata": {
    "colab": {
      "provenance": [],
      "collapsed_sections": [
        "Ba5NmOiy5KVj",
        "HrB1MzYC5SUi"
      ],
      "gpuType": "T4",
      "authorship_tag": "ABX9TyMVmBsaZGZZNjAofh9Tst+V",
      "include_colab_link": true
    },
    "kernelspec": {
      "name": "python3",
      "display_name": "Python 3"
    },
    "language_info": {
      "name": "python"
    }
  },
  "cells": [
    {
      "cell_type": "markdown",
      "metadata": {
        "id": "view-in-github",
        "colab_type": "text"
      },
      "source": [
        "<a href=\"https://colab.research.google.com/github/Ayuzap/ai-ml-journey/blob/main/day1_kaggle_python.ipynb\" target=\"_parent\"><img src=\"https://colab.research.google.com/assets/colab-badge.svg\" alt=\"Open In Colab\"/></a>"
      ]
    },
    {
      "cell_type": "markdown",
      "source": [
        "#Step-1: Hello, Python"
      ],
      "metadata": {
        "id": "Ba5NmOiy5KVj"
      }
    },
    {
      "cell_type": "code",
      "execution_count": null,
      "metadata": {
        "id": "cSr75NltVK2_",
        "collapsed": true
      },
      "outputs": [],
      "source": [
        "print(\"Hello World! Ayush here!!, Today, we are going to start a real thing!!\")"
      ]
    },
    {
      "cell_type": "markdown",
      "source": [
        "First most basic code that I could write!"
      ],
      "metadata": {
        "id": "O4wxqEBLlddl"
      }
    },
    {
      "cell_type": "code",
      "source": [
        "name = \"Ayush\""
      ],
      "metadata": {
        "id": "E6ekGdaZfIW8"
      },
      "execution_count": null,
      "outputs": []
    },
    {
      "cell_type": "markdown",
      "source": [
        "In python -> No need to declare a variable :O"
      ],
      "metadata": {
        "id": "zcJg2n6Vij2m"
      }
    },
    {
      "cell_type": "code",
      "source": [
        "spam_amount = 0\n",
        "print(spam_amount)\n",
        "\n",
        "# Ordering Spam, egg, Spam, Spam, bacon and Spam (4 more servings of Spam)\n",
        "spam_amount = spam_amount + 4\n",
        "\n",
        "if spam_amount > 0:\n",
        "    print(\"But I don't want ANY spam!\")\n",
        "\n",
        "viking_song = \"Spam \" * spam_amount\n",
        "print(viking_song)\n",
        "\n",
        "type(spam_amount)"
      ],
      "metadata": {
        "id": "rAdJYSYIjWFo",
        "collapsed": true
      },
      "execution_count": null,
      "outputs": []
    },
    {
      "cell_type": "markdown",
      "source": [
        "there are no curly brackets {} for if or any other loop, it's just the indentation.\n",
        "\n",
        "so far: two built in functions:\n",
        "  `print()` and `type()`\n",
        "  \n",
        "  {`type()` is\n",
        "   very useful to be able to ask Python \"what kind of thing is this?\".}"
      ],
      "metadata": {
        "id": "qZ-tCVvZjXjl"
      }
    },
    {
      "cell_type": "code",
      "source": [
        "#Some basic arithmetic operators:\n",
        "print (7/4) #this is normal division, it always returns float\n",
        "print (7//4) #this is floor division, it divides, then remove the fractional part\n",
        "print(2**3) #this is exponential operator"
      ],
      "metadata": {
        "id": "9Kysti8Ol_ck"
      },
      "execution_count": null,
      "outputs": []
    },
    {
      "cell_type": "markdown",
      "source": [
        "The // operator gives us a result that's rounded down to the next integer.\n",
        "\n",
        "ORDER OF OPERATIONS:\n",
        "\n",
        "Operators follow `BODMAS` order ( or you could say PEMDAS)\n",
        "\n",
        "where:\n",
        "\n",
        "`B` is for `Brackets` ( )\n",
        "\n",
        "`O` is for `Order` (raised to the power)\n",
        "\n",
        "`D` is for `Division`\n",
        "\n",
        "`M` is for `Multiplication`\n",
        "\n",
        "`A` is for `Addition`\n",
        "\n",
        "`S` is for `Subtraction`"
      ],
      "metadata": {
        "id": "ahx8iFKBnP1T"
      }
    },
    {
      "cell_type": "code",
      "source": [
        "#For Example:\n",
        "print(-3 + 4 * 2)\n",
        "#first, (-3 + (4*2))\n",
        "#       (-3 + (8))\n",
        "#       (-3 + 8)\n",
        "#       5\n"
      ],
      "metadata": {
        "colab": {
          "base_uri": "https://localhost:8080/"
        },
        "id": "sesOiJiSnQ55",
        "outputId": "7c6319c9-13be-4b48-b3ce-8a461d861bdf"
      },
      "execution_count": null,
      "outputs": [
        {
          "output_type": "stream",
          "name": "stdout",
          "text": [
            "5\n"
          ]
        }
      ]
    },
    {
      "cell_type": "markdown",
      "source": [
        "It's wise to use Parentheses :)"
      ],
      "metadata": {
        "id": "m3Pq9cCRo3VA"
      }
    },
    {
      "cell_type": "code",
      "source": [
        "#wrong code:\n",
        "hat_height_cm = 25\n",
        "my_height_cm = 190\n",
        "# How tall am I, in meters, when wearing my hat?\n",
        "total_height_meters = hat_height_cm + my_height_cm / 100\n",
        "print(\"Height in meters =\", total_height_meters, \"?\")"
      ],
      "metadata": {
        "id": "uLFroQNAoXeu"
      },
      "execution_count": null,
      "outputs": []
    },
    {
      "cell_type": "code",
      "source": [
        "#correct code:\n",
        "total_height_meters = (hat_height_cm + my_height_cm) / 100\n",
        "print(\"Height in meters =\", total_height_meters)"
      ],
      "metadata": {
        "id": "Bd0-WKympKUi"
      },
      "execution_count": null,
      "outputs": []
    },
    {
      "cell_type": "markdown",
      "source": [
        "some useful built-in functions for working with numbers:\n",
        "\n",
        "min, max - already know that\n",
        "abs - gives the absolute value of a number"
      ],
      "metadata": {
        "id": "K9aW9rzwpdJ4"
      }
    },
    {
      "cell_type": "code",
      "source": [
        "print(abs(32))\n",
        "print(abs(-32))\n",
        "print(abs(-18.9))"
      ],
      "metadata": {
        "id": "hKaYw7bIpkso"
      },
      "execution_count": null,
      "outputs": []
    },
    {
      "cell_type": "code",
      "source": [
        "# A new method to swap two variables\n",
        "a = [1, 2, 3]\n",
        "b = [3, 2, 1]\n",
        "\n",
        "a,b = b,a\n",
        "\n",
        "print(a)\n",
        "print(b)"
      ],
      "metadata": {
        "id": "fndf3qpzp1AY"
      },
      "execution_count": null,
      "outputs": []
    },
    {
      "cell_type": "markdown",
      "source": [
        "So far, I've done the first step of kaggle's python course (6 more to go)\n",
        "\n",
        "I've completed the exercises and theory of the step 1"
      ],
      "metadata": {
        "id": "-qaS8Aoj4c2K"
      }
    },
    {
      "cell_type": "code",
      "source": [],
      "metadata": {
        "id": "9GxCZWfV4sa7"
      },
      "execution_count": null,
      "outputs": []
    },
    {
      "cell_type": "markdown",
      "source": [
        "#Step-2: Functions and Getting Help"
      ],
      "metadata": {
        "id": "HrB1MzYC5SUi"
      }
    },
    {
      "cell_type": "markdown",
      "source": [
        "the `help()` function is very helpful\n",
        "\n",
        "It displays two things:\n",
        "\n",
        "1) The header of that function.\n",
        "\n",
        "2) A brief English description of what the function does.\n",
        "\n",
        "`NOTE`: While passing a function as an argument for the `help()` function, don't call that function, just give name of that function (that means don't give arguments to that function)"
      ],
      "metadata": {
        "id": "b0yfw6gZ5XWZ"
      }
    },
    {
      "cell_type": "code",
      "source": [
        "#Example of using help():\n",
        "help(print)"
      ],
      "metadata": {
        "id": "h3oJNDgK5UQm"
      },
      "execution_count": null,
      "outputs": []
    },
    {
      "cell_type": "markdown",
      "source": [
        "Defining a function:\n",
        "\n",
        "`def` keyword is used\n",
        "\n",
        "Below is an example:"
      ],
      "metadata": {
        "id": "F9_uMRLZAUn6"
      }
    },
    {
      "cell_type": "code",
      "source": [
        "def max_difference(a,b,c):\n",
        "\n",
        "  diff1 = abs(a-b)\n",
        "  diff2 = abs(b-c)\n",
        "  diff3 = abs(c-a)\n",
        "\n",
        "  return max(diff1,diff2,diff3)\n",
        "\n",
        "\n",
        "print(max_difference(1,2,10),max_difference(10,-10,0),sep = '\\n')\n",
        "\n",
        "help(max_difference)"
      ],
      "metadata": {
        "id": "vns79Pct5ZE7"
      },
      "execution_count": null,
      "outputs": []
    },
    {
      "cell_type": "markdown",
      "source": [
        "If we use `help(max_difference)`, python won't give the description of this one, so we can give it on our own\n",
        "the description we give it is called `docstring` and starts and ends with triple `\"`"
      ],
      "metadata": {
        "id": "IQwxMjipBpyH"
      }
    },
    {
      "cell_type": "code",
      "source": [
        "def max_difference(a,b,c):\n",
        "    \"\"\"\n",
        "\n",
        "    Returns the largest difference between any two numbers\n",
        "    among a, b and c.\n",
        "\n",
        "    >>> max_difference(1, 5, -5)\n",
        "    10\n",
        "    \"\"\"\n",
        "\n",
        "    diff1 = abs(a-b)\n",
        "    diff2 = abs(b-c)\n",
        "    diff3 = abs(c-a)\n",
        "\n",
        "    return max(diff1,diff2,diff3)\n",
        "\n",
        "\n",
        "help(max_difference)"
      ],
      "metadata": {
        "id": "V5aphDoMCBSJ"
      },
      "execution_count": null,
      "outputs": []
    },
    {
      "cell_type": "markdown",
      "source": [
        "FUNCTIONS APPLIED TO FUNCTIONS:"
      ],
      "metadata": {
        "id": "1GeDjk0pFHj_"
      }
    },
    {
      "cell_type": "code",
      "source": [
        "def mult_by_five(x):\n",
        "    return 5 * x\n",
        "\n",
        "def call(fn, arg):\n",
        "    \"\"\"Call fn on arg\"\"\"\n",
        "    return fn(arg)\n",
        "\n",
        "def squared_call(fn, arg):\n",
        "    \"\"\"Call fn on the result of calling fn on arg\"\"\"\n",
        "    return fn(fn(arg))\n",
        "\n",
        "print(\n",
        "    call(mult_by_five, 1),\n",
        "    squared_call(mult_by_five, 1),\n",
        "    sep='\\n'\n",
        ")"
      ],
      "metadata": {
        "colab": {
          "base_uri": "https://localhost:8080/"
        },
        "id": "7MbNQjSQFJ8v",
        "outputId": "fb945c97-13d6-472d-9242-62523070b9d6"
      },
      "execution_count": 11,
      "outputs": [
        {
          "output_type": "stream",
          "name": "stdout",
          "text": [
            "5\n",
            "25\n"
          ]
        }
      ]
    },
    {
      "cell_type": "markdown",
      "source": [
        "An interesting example:"
      ],
      "metadata": {
        "id": "eUTJPPK0F8mQ"
      }
    },
    {
      "cell_type": "code",
      "source": [
        "def mod_5(x):\n",
        "    \"\"\"Return the remainder of x after dividing by 5\"\"\"\n",
        "    return x % 5\n",
        "\n",
        "print(\n",
        "    'Which number is biggest?',\n",
        "    max(100, 51, 14),\n",
        "    'Which number is the biggest modulo 5?',\n",
        "    max(100, 51, 14, key=mod_5),#*\n",
        "    sep='\\n',\n",
        ")\n",
        "\n",
        "#*-> this line will do this:\n",
        "#it will choose the one from 100,51 and 14, which makes mod_5 value maximum"
      ],
      "metadata": {
        "id": "46I9QA2YF_gD"
      },
      "execution_count": null,
      "outputs": []
    }
  ]
}