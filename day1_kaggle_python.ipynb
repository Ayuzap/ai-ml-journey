{
  "nbformat": 4,
  "nbformat_minor": 0,
  "metadata": {
    "colab": {
      "provenance": [],
      "collapsed_sections": [
        "Ba5NmOiy5KVj",
        "HrB1MzYC5SUi"
      ],
      "gpuType": "T4",
      "authorship_tag": "ABX9TyN6tmupMfdY1rGgkZeV9Kad",
      "include_colab_link": true
    },
    "kernelspec": {
      "name": "python3",
      "display_name": "Python 3"
    },
    "language_info": {
      "name": "python"
    }
  },
  "cells": [
    {
      "cell_type": "markdown",
      "metadata": {
        "id": "view-in-github",
        "colab_type": "text"
      },
      "source": [
        "<a href=\"https://colab.research.google.com/github/Ayuzap/ai-ml-journey/blob/main/day1_kaggle_python.ipynb\" target=\"_parent\"><img src=\"https://colab.research.google.com/assets/colab-badge.svg\" alt=\"Open In Colab\"/></a>"
      ]
    },
    {
      "cell_type": "markdown",
      "source": [
        "#Step-1: Hello, Python"
      ],
      "metadata": {
        "id": "Ba5NmOiy5KVj"
      }
    },
    {
      "cell_type": "code",
      "execution_count": null,
      "metadata": {
        "id": "cSr75NltVK2_",
        "collapsed": true
      },
      "outputs": [],
      "source": [
        "print(\"Hello World! Ayush here!!, Today, we are going to start a real thing!!\")"
      ]
    },
    {
      "cell_type": "markdown",
      "source": [
        "First most basic code that I could write!"
      ],
      "metadata": {
        "id": "O4wxqEBLlddl"
      }
    },
    {
      "cell_type": "code",
      "source": [
        "name = \"Ayush\""
      ],
      "metadata": {
        "id": "E6ekGdaZfIW8"
      },
      "execution_count": null,
      "outputs": []
    },
    {
      "cell_type": "markdown",
      "source": [
        "In python -> No need to declare a variable :O"
      ],
      "metadata": {
        "id": "zcJg2n6Vij2m"
      }
    },
    {
      "cell_type": "code",
      "source": [
        "spam_amount = 0\n",
        "print(spam_amount)\n",
        "\n",
        "# Ordering Spam, egg, Spam, Spam, bacon and Spam (4 more servings of Spam)\n",
        "spam_amount = spam_amount + 4\n",
        "\n",
        "if spam_amount > 0:\n",
        "    print(\"But I don't want ANY spam!\")\n",
        "\n",
        "viking_song = \"Spam \" * spam_amount\n",
        "print(viking_song)\n",
        "\n",
        "type(spam_amount)"
      ],
      "metadata": {
        "id": "rAdJYSYIjWFo",
        "collapsed": true
      },
      "execution_count": null,
      "outputs": []
    },
    {
      "cell_type": "markdown",
      "source": [
        "there are no curly brackets {} for if or any other loop, it's just the indentation.\n",
        "\n",
        "so far: two built in functions:\n",
        "  `print()` and `type()`\n",
        "  \n",
        "  {`type()` is\n",
        "   very useful to be able to ask Python \"what kind of thing is this?\".}"
      ],
      "metadata": {
        "id": "qZ-tCVvZjXjl"
      }
    },
    {
      "cell_type": "code",
      "source": [
        "#Some basic arithmetic operators:\n",
        "print (7/4) #this is normal division, it always returns float\n",
        "print (7//4) #this is floor division, it divides, then remove the fractional part\n",
        "print(2**3) #this is exponential operator"
      ],
      "metadata": {
        "id": "9Kysti8Ol_ck"
      },
      "execution_count": null,
      "outputs": []
    },
    {
      "cell_type": "markdown",
      "source": [
        "The // operator gives us a result that's rounded down to the next integer.\n",
        "\n",
        "ORDER OF OPERATIONS:\n",
        "\n",
        "Operators follow `BODMAS` order ( or you could say PEMDAS)\n",
        "\n",
        "where:\n",
        "\n",
        "`B` is for `Brackets` ( )\n",
        "\n",
        "`O` is for `Order` (raised to the power)\n",
        "\n",
        "`D` is for `Division`\n",
        "\n",
        "`M` is for `Multiplication`\n",
        "\n",
        "`A` is for `Addition`\n",
        "\n",
        "`S` is for `Subtraction`"
      ],
      "metadata": {
        "id": "ahx8iFKBnP1T"
      }
    },
    {
      "cell_type": "code",
      "source": [
        "#For Example:\n",
        "print(-3 + 4 * 2)\n",
        "#first, (-3 + (4*2))\n",
        "#       (-3 + (8))\n",
        "#       (-3 + 8)\n",
        "#       5\n"
      ],
      "metadata": {
        "colab": {
          "base_uri": "https://localhost:8080/"
        },
        "id": "sesOiJiSnQ55",
        "outputId": "7c6319c9-13be-4b48-b3ce-8a461d861bdf"
      },
      "execution_count": null,
      "outputs": [
        {
          "output_type": "stream",
          "name": "stdout",
          "text": [
            "5\n"
          ]
        }
      ]
    },
    {
      "cell_type": "markdown",
      "source": [
        "It's wise to use Parentheses :)"
      ],
      "metadata": {
        "id": "m3Pq9cCRo3VA"
      }
    },
    {
      "cell_type": "code",
      "source": [
        "#wrong code:\n",
        "hat_height_cm = 25\n",
        "my_height_cm = 190\n",
        "# How tall am I, in meters, when wearing my hat?\n",
        "total_height_meters = hat_height_cm + my_height_cm / 100\n",
        "print(\"Height in meters =\", total_height_meters, \"?\")"
      ],
      "metadata": {
        "id": "uLFroQNAoXeu"
      },
      "execution_count": null,
      "outputs": []
    },
    {
      "cell_type": "code",
      "source": [
        "#correct code:\n",
        "total_height_meters = (hat_height_cm + my_height_cm) / 100\n",
        "print(\"Height in meters =\", total_height_meters)"
      ],
      "metadata": {
        "id": "Bd0-WKympKUi"
      },
      "execution_count": null,
      "outputs": []
    },
    {
      "cell_type": "markdown",
      "source": [
        "some useful built-in functions for working with numbers:\n",
        "\n",
        "min, max - already know that\n",
        "abs - gives the absolute value of a number"
      ],
      "metadata": {
        "id": "K9aW9rzwpdJ4"
      }
    },
    {
      "cell_type": "code",
      "source": [
        "print(abs(32))\n",
        "print(abs(-32))\n",
        "print(abs(-18.9))"
      ],
      "metadata": {
        "id": "hKaYw7bIpkso"
      },
      "execution_count": null,
      "outputs": []
    },
    {
      "cell_type": "code",
      "source": [
        "# A new method to swap two variables\n",
        "a = [1, 2, 3]\n",
        "b = [3, 2, 1]\n",
        "\n",
        "a,b = b,a\n",
        "\n",
        "print(a)\n",
        "print(b)"
      ],
      "metadata": {
        "id": "fndf3qpzp1AY"
      },
      "execution_count": null,
      "outputs": []
    },
    {
      "cell_type": "markdown",
      "source": [
        "So far, I've done the first step of kaggle's python course (6 more to go)\n",
        "\n",
        "I've completed the exercises and theory of the step 1"
      ],
      "metadata": {
        "id": "-qaS8Aoj4c2K"
      }
    },
    {
      "cell_type": "code",
      "source": [],
      "metadata": {
        "id": "9GxCZWfV4sa7"
      },
      "execution_count": null,
      "outputs": []
    },
    {
      "cell_type": "markdown",
      "source": [
        "#Step-2: Functions and Getting Help"
      ],
      "metadata": {
        "id": "HrB1MzYC5SUi"
      }
    },
    {
      "cell_type": "markdown",
      "source": [],
      "metadata": {
        "id": "q5xZ6cgynvar"
      }
    },
    {
      "cell_type": "markdown",
      "source": [
        "the `help()` function is very helpful\n",
        "\n",
        "It displays two things:\n",
        "\n",
        "1) The header of that function.\n",
        "\n",
        "2) A brief English description of what the function does.\n",
        "\n",
        "`NOTE`: While passing a function as an argument for the `help()` function, don't call that function, just give name of that function (that means don't give arguments to that function)"
      ],
      "metadata": {
        "id": "b0yfw6gZ5XWZ"
      }
    },
    {
      "cell_type": "code",
      "source": [
        "#Example of using help():\n",
        "help(print)"
      ],
      "metadata": {
        "id": "h3oJNDgK5UQm"
      },
      "execution_count": null,
      "outputs": []
    },
    {
      "cell_type": "markdown",
      "source": [
        "Defining a function:\n",
        "\n",
        "`def` keyword is used\n",
        "\n",
        "Below is an example:"
      ],
      "metadata": {
        "id": "F9_uMRLZAUn6"
      }
    },
    {
      "cell_type": "code",
      "source": [
        "def max_difference(a,b,c):\n",
        "\n",
        "  diff1 = abs(a-b)\n",
        "  diff2 = abs(b-c)\n",
        "  diff3 = abs(c-a)\n",
        "\n",
        "  return max(diff1,diff2,diff3)\n",
        "\n",
        "\n",
        "print(max_difference(1,2,10),max_difference(10,-10,0),sep = '\\n')\n",
        "\n",
        "help(max_difference)"
      ],
      "metadata": {
        "id": "vns79Pct5ZE7"
      },
      "execution_count": null,
      "outputs": []
    },
    {
      "cell_type": "markdown",
      "source": [
        "If we use `help(max_difference)`, python won't give the description of this one, so we can give it on our own\n",
        "the description we give it is called `docstring` and starts and ends with triple `\"`"
      ],
      "metadata": {
        "id": "IQwxMjipBpyH"
      }
    },
    {
      "cell_type": "code",
      "source": [
        "def max_difference(a,b,c):\n",
        "    \"\"\"\n",
        "\n",
        "    Returns the largest difference between any two numbers\n",
        "    among a, b and c.\n",
        "\n",
        "    >>> max_difference(1, 5, -5)\n",
        "    10\n",
        "    \"\"\"\n",
        "\n",
        "    diff1 = abs(a-b)\n",
        "    diff2 = abs(b-c)\n",
        "    diff3 = abs(c-a)\n",
        "\n",
        "    return max(diff1,diff2,diff3)\n",
        "\n",
        "\n",
        "help(max_difference)"
      ],
      "metadata": {
        "id": "V5aphDoMCBSJ"
      },
      "execution_count": null,
      "outputs": []
    },
    {
      "cell_type": "markdown",
      "source": [
        "FUNCTIONS APPLIED TO FUNCTIONS:"
      ],
      "metadata": {
        "id": "1GeDjk0pFHj_"
      }
    },
    {
      "cell_type": "code",
      "source": [
        "def mult_by_five(x):\n",
        "    return 5 * x\n",
        "\n",
        "def call(fn, arg):\n",
        "    \"\"\"Call fn on arg\"\"\"\n",
        "    return fn(arg)\n",
        "\n",
        "def squared_call(fn, arg):\n",
        "    \"\"\"Call fn on the result of calling fn on arg\"\"\"\n",
        "    return fn(fn(arg))\n",
        "\n",
        "print(\n",
        "    call(mult_by_five, 1),\n",
        "    squared_call(mult_by_five, 1),\n",
        "    sep='\\n'\n",
        ")"
      ],
      "metadata": {
        "colab": {
          "base_uri": "https://localhost:8080/"
        },
        "id": "7MbNQjSQFJ8v",
        "outputId": "fb945c97-13d6-472d-9242-62523070b9d6"
      },
      "execution_count": 11,
      "outputs": [
        {
          "output_type": "stream",
          "name": "stdout",
          "text": [
            "5\n",
            "25\n"
          ]
        }
      ]
    },
    {
      "cell_type": "markdown",
      "source": [
        "An interesting example:"
      ],
      "metadata": {
        "id": "eUTJPPK0F8mQ"
      }
    },
    {
      "cell_type": "code",
      "source": [
        "def mod_5(x):\n",
        "    \"\"\"Return the remainder of x after dividing by 5\"\"\"\n",
        "    return x % 5\n",
        "\n",
        "print(\n",
        "    'Which number is biggest?',\n",
        "    max(100, 51, 14),\n",
        "    'Which number is the biggest modulo 5?',\n",
        "    max(100, 51, 14, key=mod_5),#*\n",
        "    sep='\\n',\n",
        ")\n",
        "\n",
        "#*-> this line will do this:\n",
        "#it will choose the one from 100,51 and 14, which makes mod_5 value maximum"
      ],
      "metadata": {
        "id": "46I9QA2YF_gD"
      },
      "execution_count": null,
      "outputs": []
    },
    {
      "cell_type": "markdown",
      "source": [
        "Stuff I learned from the kaggle practice session:\n",
        "\n"
      ],
      "metadata": {
        "id": "2WVA2LsTnyLp"
      }
    },
    {
      "cell_type": "code",
      "source": [
        "help(round)"
      ],
      "metadata": {
        "colab": {
          "base_uri": "https://localhost:8080/"
        },
        "id": "w1NQa4can5UN",
        "outputId": "bcd6aa21-2c65-43aa-c47c-70aae53304d2"
      },
      "execution_count": 2,
      "outputs": [
        {
          "output_type": "stream",
          "name": "stdout",
          "text": [
            "Help on built-in function round in module builtins:\n",
            "\n",
            "round(number, ndigits=None)\n",
            "    Round a number to a given precision in decimal digits.\n",
            "    \n",
            "    The return value is an integer if ndigits is omitted or None.  Otherwise\n",
            "    the return value has the same type as the number.  ndigits may be negative.\n",
            "\n"
          ]
        }
      ]
    },
    {
      "cell_type": "markdown",
      "source": [
        "the help(round) tells us that the ndigits can be negative too\n",
        "\n",
        "so what exactly happens if we take a negative number? Let's see:"
      ],
      "metadata": {
        "id": "RcrnFYJWoScs"
      }
    },
    {
      "cell_type": "code",
      "source": [
        "print(round(39.141,-1))\n",
        "print(round(3111.434334,-3))\n"
      ],
      "metadata": {
        "colab": {
          "base_uri": "https://localhost:8080/"
        },
        "id": "sHK9BO5yoVck",
        "outputId": "819dc195-c75b-404f-b0ac-7ee477fe766a"
      },
      "execution_count": 6,
      "outputs": [
        {
          "output_type": "stream",
          "name": "stdout",
          "text": [
            "40.0\n",
            "3000.0\n"
          ]
        }
      ]
    },
    {
      "cell_type": "markdown",
      "source": [
        "ndigits=-1 rounds to the nearest 10, ndigits=-2 rounds to the nearest 100 and so on.\n",
        "\n",
        "It's useful when dealing with large numbers. For example:\n",
        "\n",
        "The area of Finland is 338,424 km²\n",
        "The area of Greenland is 2,166,086 km²\n",
        "\n",
        "We probably don't care whether it's really 338,424, or 338,425, or 338,177. All those digits of accuracy are just distracting. We can chop them off by calling round() with ndigits=-3:\n",
        "\n",
        "The area of Finland is 338,000 km²\n",
        "The area of Greenland is 2,166,000 km²"
      ],
      "metadata": {
        "id": "KisAVFVGo4E3"
      }
    },
    {
      "cell_type": "markdown",
      "source": [
        "Defining a function and giving one of the arguments a default value:"
      ],
      "metadata": {
        "id": "a6OgQ4-6qQZm"
      }
    },
    {
      "cell_type": "code",
      "source": [
        "def to_smash(total_candies,friends = 3):\n",
        "    \"\"\"Return the number of leftover candies that must be smashed after distributing\n",
        "    the given number of candies evenly between given number of friends(Default value of number of friends = 3).\n",
        "\n",
        "    >>> to_smash(91,3)\n",
        "    1\n",
        "    >>> to_smash(103,4)\n",
        "    3\n",
        "    \"\"\"\n",
        "\n",
        "    return total_candies % friends\n",
        "\n",
        "to_smash(103,4)"
      ],
      "metadata": {
        "colab": {
          "base_uri": "https://localhost:8080/"
        },
        "id": "0b1UlQP9pFiI",
        "outputId": "a19ef24a-484b-4e52-f2d8-65fbe4bd8ac0"
      },
      "execution_count": 8,
      "outputs": [
        {
          "output_type": "execute_result",
          "data": {
            "text/plain": [
              "3"
            ]
          },
          "metadata": {},
          "execution_count": 8
        }
      ]
    }
  ]
}