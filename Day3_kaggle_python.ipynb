{
  "nbformat": 4,
  "nbformat_minor": 0,
  "metadata": {
    "colab": {
      "provenance": [],
      "authorship_tag": "ABX9TyPwoBkQ69VnaZ6e7zYayZEA",
      "include_colab_link": true
    },
    "kernelspec": {
      "name": "python3",
      "display_name": "Python 3"
    },
    "language_info": {
      "name": "python"
    }
  },
  "cells": [
    {
      "cell_type": "markdown",
      "metadata": {
        "id": "view-in-github",
        "colab_type": "text"
      },
      "source": [
        "<a href=\"https://colab.research.google.com/github/Ayuzap/ai-ml-journey/blob/main/Day3_kaggle_python.ipynb\" target=\"_parent\"><img src=\"https://colab.research.google.com/assets/colab-badge.svg\" alt=\"Open In Colab\"/></a>"
      ]
    },
    {
      "cell_type": "markdown",
      "source": [
        "# Step-3: Lists and Tuples:"
      ],
      "metadata": {
        "id": "kl4RGdqFVXYc"
      }
    },
    {
      "cell_type": "markdown",
      "source": [
        "Indexing in lists:\n",
        "\n",
        "0,1,2,3,... if we see from left to right and -1,-2,-3,... if we see from right to left.\n",
        "\n",
        "Example:"
      ],
      "metadata": {
        "id": "sF63V913VcNn"
      }
    },
    {
      "cell_type": "code",
      "execution_count": 1,
      "metadata": {
        "id": "YJkc8N-aBamt",
        "colab": {
          "base_uri": "https://localhost:8080/"
        },
        "outputId": "60aa835e-6a33-456d-f1f6-25a2b6a67523"
      },
      "outputs": [
        {
          "output_type": "stream",
          "name": "stdout",
          "text": [
            "Mercury\n",
            "Venus\n",
            "Earth\n",
            "Neptune\n",
            "Uranus\n"
          ]
        }
      ],
      "source": [
        "Planets = ['Mercury', 'Venus', 'Earth', 'Mars', 'Jupiter', 'Saturn', 'Uranus', 'Neptune']\n",
        "print(Planets[0]) #First\n",
        "print(Planets[1]) #Second\n",
        "print(Planets[2]) #Third\n",
        "print(Planets[-1])#Last\n",
        "print(Planets[-2])#Last second"
      ]
    },
    {
      "cell_type": "markdown",
      "source": [
        "SLICING:"
      ],
      "metadata": {
        "id": "hIo3EhUhXxLL"
      }
    },
    {
      "cell_type": "code",
      "source": [
        "Planets = ['Mercury', 'Venus', 'Earth', 'Mars', 'Jupiter', 'Saturn', 'Uranus', 'Neptune']\n",
        "print(Planets[0:3])#this prints the elements of Planets list from index 0 to and continuing up to but not including index 3\n",
        "print(Planets[:])  #this prints all the elements of Planets list\n",
        "print(Planets[:3]) #this prints the elements of Planets list from starting to the index=2\n",
        "print(Planets[3:]) #this prints the elements of Planets list from index=3 to the last\n",
        "print(Planets[1:-1])# All the planets except the first and last\n",
        "print(Planets[-3:])# The last 3 planets\n",
        "\n"
      ],
      "metadata": {
        "colab": {
          "base_uri": "https://localhost:8080/"
        },
        "id": "qwbB6R9DX3Bi",
        "outputId": "7a53aef6-1494-4742-a0f4-59e09ff104f9"
      },
      "execution_count": 2,
      "outputs": [
        {
          "output_type": "stream",
          "name": "stdout",
          "text": [
            "['Mercury', 'Venus', 'Earth']\n",
            "['Mercury', 'Venus', 'Earth', 'Mars', 'Jupiter', 'Saturn', 'Uranus', 'Neptune']\n",
            "['Mercury', 'Venus', 'Earth']\n",
            "['Mars', 'Jupiter', 'Saturn', 'Uranus', 'Neptune']\n",
            "['Venus', 'Earth', 'Mars', 'Jupiter', 'Saturn', 'Uranus']\n",
            "['Saturn', 'Uranus', 'Neptune']\n"
          ]
        }
      ]
    },
    {
      "cell_type": "markdown",
      "source": [
        "Points to Remember:\n",
        "\n",
        "The starting and ending indices are both optional\n",
        "\n",
        "If I leave out the start index, it's assumed to be 0\n",
        "\n",
        "If I leave out the end index, it's assumed to be the length of the list."
      ],
      "metadata": {
        "id": "yLC3sPWvavDd"
      }
    },
    {
      "cell_type": "code",
      "source": [
        "#Lists are mutable\n",
        "\n",
        "Planets = ['Mercury', 'Venus', 'Earth', 'Mars', 'Jupiter', 'Saturn', 'Uranus', 'Neptune']\n",
        "Planets[:3] = ['Mur', 'Vee', 'Ur']\n",
        "print(Planets)"
      ],
      "metadata": {
        "id": "hIWFkDSYaoJ0",
        "colab": {
          "base_uri": "https://localhost:8080/"
        },
        "outputId": "7b8ca968-f77b-44b3-d6d8-248551a26c4f"
      },
      "execution_count": 3,
      "outputs": [
        {
          "output_type": "stream",
          "name": "stdout",
          "text": [
            "['Mur', 'Vee', 'Ur', 'Mars', 'Jupiter', 'Saturn', 'Uranus', 'Neptune']\n"
          ]
        }
      ]
    },
    {
      "cell_type": "markdown",
      "source": [
        "List Functions:\n",
        "\n",
        "len()\n",
        "\n",
        "sorted() {sorts the list}\n",
        "\n",
        "sum()\n",
        "\n",
        "max()"
      ],
      "metadata": {
        "id": "6JvOfgCLuh7q"
      }
    },
    {
      "cell_type": "markdown",
      "source": [
        "List Methods:\n",
        "\n",
        "append(): list.append()\n",
        "\n",
        "`NOTE:`append is a method carried around by all objects of type list, not just planets, so we also could have called help(list.append). However, if we try to call help(append), Python will complain that no variable exists called \"append\". The \"append\" name only exists within lists - it doesn't exist as a standalone name like builtin functions such as max or len."
      ],
      "metadata": {
        "id": "x06CaGrrvkPh"
      }
    },
    {
      "cell_type": "code",
      "source": [
        "prime = [2,3,5,7,11]\n",
        "prime.append(13)\n",
        "print(prime)"
      ],
      "metadata": {
        "colab": {
          "base_uri": "https://localhost:8080/"
        },
        "id": "u5vTRs1eue-Q",
        "outputId": "531378b5-8ecd-4036-b478-8fb5a69fe81d"
      },
      "execution_count": 4,
      "outputs": [
        {
          "output_type": "stream",
          "name": "stdout",
          "text": [
            "[2, 3, 5, 7, 11, 13]\n"
          ]
        }
      ]
    },
    {
      "cell_type": "markdown",
      "source": [
        "list.pop removes and returns the last element of a list:"
      ],
      "metadata": {
        "id": "WOgYg0e4wePJ"
      }
    },
    {
      "cell_type": "code",
      "source": [
        "prime = [2,3,5,7,11,13]\n",
        "print(prime.pop()) #will pop 13\n",
        "print(prime)"
      ],
      "metadata": {
        "colab": {
          "base_uri": "https://localhost:8080/"
        },
        "id": "_NosH5KBw2mB",
        "outputId": "8d860df7-ac11-4c87-9333-04a13b440dcb"
      },
      "execution_count": 5,
      "outputs": [
        {
          "output_type": "stream",
          "name": "stdout",
          "text": [
            "13\n",
            "[2, 3, 5, 7, 11]\n"
          ]
        }
      ]
    },
    {
      "cell_type": "code",
      "source": [
        "help(list)"
      ],
      "metadata": {
        "colab": {
          "base_uri": "https://localhost:8080/"
        },
        "id": "fCN1gIRlxNR3",
        "outputId": "3b957a46-0ca2-45b7-dece-7b8895c16de1"
      },
      "execution_count": 6,
      "outputs": [
        {
          "output_type": "stream",
          "name": "stdout",
          "text": [
            "Help on class list in module builtins:\n",
            "\n",
            "class list(object)\n",
            " |  list(iterable=(), /)\n",
            " |  \n",
            " |  Built-in mutable sequence.\n",
            " |  \n",
            " |  If no argument is given, the constructor creates a new empty list.\n",
            " |  The argument must be an iterable if specified.\n",
            " |  \n",
            " |  Methods defined here:\n",
            " |  \n",
            " |  __add__(self, value, /)\n",
            " |      Return self+value.\n",
            " |  \n",
            " |  __contains__(self, key, /)\n",
            " |      Return key in self.\n",
            " |  \n",
            " |  __delitem__(self, key, /)\n",
            " |      Delete self[key].\n",
            " |  \n",
            " |  __eq__(self, value, /)\n",
            " |      Return self==value.\n",
            " |  \n",
            " |  __ge__(self, value, /)\n",
            " |      Return self>=value.\n",
            " |  \n",
            " |  __getattribute__(self, name, /)\n",
            " |      Return getattr(self, name).\n",
            " |  \n",
            " |  __getitem__(...)\n",
            " |      x.__getitem__(y) <==> x[y]\n",
            " |  \n",
            " |  __gt__(self, value, /)\n",
            " |      Return self>value.\n",
            " |  \n",
            " |  __iadd__(self, value, /)\n",
            " |      Implement self+=value.\n",
            " |  \n",
            " |  __imul__(self, value, /)\n",
            " |      Implement self*=value.\n",
            " |  \n",
            " |  __init__(self, /, *args, **kwargs)\n",
            " |      Initialize self.  See help(type(self)) for accurate signature.\n",
            " |  \n",
            " |  __iter__(self, /)\n",
            " |      Implement iter(self).\n",
            " |  \n",
            " |  __le__(self, value, /)\n",
            " |      Return self<=value.\n",
            " |  \n",
            " |  __len__(self, /)\n",
            " |      Return len(self).\n",
            " |  \n",
            " |  __lt__(self, value, /)\n",
            " |      Return self<value.\n",
            " |  \n",
            " |  __mul__(self, value, /)\n",
            " |      Return self*value.\n",
            " |  \n",
            " |  __ne__(self, value, /)\n",
            " |      Return self!=value.\n",
            " |  \n",
            " |  __repr__(self, /)\n",
            " |      Return repr(self).\n",
            " |  \n",
            " |  __reversed__(self, /)\n",
            " |      Return a reverse iterator over the list.\n",
            " |  \n",
            " |  __rmul__(self, value, /)\n",
            " |      Return value*self.\n",
            " |  \n",
            " |  __setitem__(self, key, value, /)\n",
            " |      Set self[key] to value.\n",
            " |  \n",
            " |  __sizeof__(self, /)\n",
            " |      Return the size of the list in memory, in bytes.\n",
            " |  \n",
            " |  append(self, object, /)\n",
            " |      Append object to the end of the list.\n",
            " |  \n",
            " |  clear(self, /)\n",
            " |      Remove all items from list.\n",
            " |  \n",
            " |  copy(self, /)\n",
            " |      Return a shallow copy of the list.\n",
            " |  \n",
            " |  count(self, value, /)\n",
            " |      Return number of occurrences of value.\n",
            " |  \n",
            " |  extend(self, iterable, /)\n",
            " |      Extend list by appending elements from the iterable.\n",
            " |  \n",
            " |  index(self, value, start=0, stop=9223372036854775807, /)\n",
            " |      Return first index of value.\n",
            " |      \n",
            " |      Raises ValueError if the value is not present.\n",
            " |  \n",
            " |  insert(self, index, object, /)\n",
            " |      Insert object before index.\n",
            " |  \n",
            " |  pop(self, index=-1, /)\n",
            " |      Remove and return item at index (default last).\n",
            " |      \n",
            " |      Raises IndexError if list is empty or index is out of range.\n",
            " |  \n",
            " |  remove(self, value, /)\n",
            " |      Remove first occurrence of value.\n",
            " |      \n",
            " |      Raises ValueError if the value is not present.\n",
            " |  \n",
            " |  reverse(self, /)\n",
            " |      Reverse *IN PLACE*.\n",
            " |  \n",
            " |  sort(self, /, *, key=None, reverse=False)\n",
            " |      Sort the list in ascending order and return None.\n",
            " |      \n",
            " |      The sort is in-place (i.e. the list itself is modified) and stable (i.e. the\n",
            " |      order of two equal elements is maintained).\n",
            " |      \n",
            " |      If a key function is given, apply it once to each list item and sort them,\n",
            " |      ascending or descending, according to their function values.\n",
            " |      \n",
            " |      The reverse flag can be set to sort in descending order.\n",
            " |  \n",
            " |  ----------------------------------------------------------------------\n",
            " |  Class methods defined here:\n",
            " |  \n",
            " |  __class_getitem__(...)\n",
            " |      See PEP 585\n",
            " |  \n",
            " |  ----------------------------------------------------------------------\n",
            " |  Static methods defined here:\n",
            " |  \n",
            " |  __new__(*args, **kwargs)\n",
            " |      Create and return a new object.  See help(type) for accurate signature.\n",
            " |  \n",
            " |  ----------------------------------------------------------------------\n",
            " |  Data and other attributes defined here:\n",
            " |  \n",
            " |  __hash__ = None\n",
            "\n"
          ]
        }
      ]
    },
    {
      "cell_type": "code",
      "source": [
        "#Searching:\n",
        "\n",
        "Planets = ['Mercury', 'Venus', 'Earth', 'Mars', 'Jupiter', 'Saturn', 'Uranus', 'Neptune']\n",
        "Planets.index('Earth')"
      ],
      "metadata": {
        "colab": {
          "base_uri": "https://localhost:8080/"
        },
        "id": "B16SnqMIy3cE",
        "outputId": "3f12465d-f149-4c86-cc53-92586ea49231"
      },
      "execution_count": 7,
      "outputs": [
        {
          "output_type": "execute_result",
          "data": {
            "text/plain": [
              "2"
            ]
          },
          "metadata": {},
          "execution_count": 7
        }
      ]
    },
    {
      "cell_type": "code",
      "source": [
        "#Checking if something is in list or not?\n",
        "Planets = ['Mercury', 'Venus', 'Earth', 'Mars', 'Jupiter', 'Saturn', 'Uranus', 'Neptune']\n",
        "\"Earth\" in Planets\n"
      ],
      "metadata": {
        "colab": {
          "base_uri": "https://localhost:8080/"
        },
        "id": "_PDCw-stzXMg",
        "outputId": "9169b632-a7f5-4c11-d0ce-ed908775f5d0"
      },
      "execution_count": 8,
      "outputs": [
        {
          "output_type": "execute_result",
          "data": {
            "text/plain": [
              "True"
            ]
          },
          "metadata": {},
          "execution_count": 8
        }
      ]
    },
    {
      "cell_type": "markdown",
      "source": [
        "TUPLES:"
      ],
      "metadata": {
        "id": "ZRydk2JqzlYj"
      }
    },
    {
      "cell_type": "markdown",
      "source": [
        "Tupples are similar to Lists but differs in some ways:\n",
        "\n",
        "1: syntax: instead of square brackets we use parentheses\n",
        "\n",
        "2: They cannot be modified (they are immutable)."
      ],
      "metadata": {
        "id": "51_YqcZd0Fww"
      }
    },
    {
      "cell_type": "code",
      "source": [
        "t = (1, 2, 3)\n",
        "t"
      ],
      "metadata": {
        "colab": {
          "base_uri": "https://localhost:8080/"
        },
        "id": "qGNnA_xZzoBq",
        "outputId": "df06c394-0fed-4cd8-ac9e-8a380b5a6d19"
      },
      "execution_count": 9,
      "outputs": [
        {
          "output_type": "execute_result",
          "data": {
            "text/plain": [
              "(1, 2, 3)"
            ]
          },
          "metadata": {},
          "execution_count": 9
        }
      ]
    },
    {
      "cell_type": "code",
      "source": [
        "t = 1, 2, 3 # equivalent to above\n",
        "t"
      ],
      "metadata": {
        "colab": {
          "base_uri": "https://localhost:8080/"
        },
        "id": "dPp8cOEu0Zyf",
        "outputId": "71e9221b-b857-4f3d-abd6-2cdcac10d94b"
      },
      "execution_count": 10,
      "outputs": [
        {
          "output_type": "execute_result",
          "data": {
            "text/plain": [
              "(1, 2, 3)"
            ]
          },
          "metadata": {},
          "execution_count": 10
        }
      ]
    },
    {
      "cell_type": "markdown",
      "source": [
        "Tuples are often used for functions that have multiple return values.\n",
        "\n",
        "For example, the as_integer_ratio() method of float objects returns a numerator and a denominator in the form of a tuple:"
      ],
      "metadata": {
        "id": "cnW1z8P21BBQ"
      }
    },
    {
      "cell_type": "code",
      "source": [
        "x = 0.125\n",
        "x.as_integer_ratio()"
      ],
      "metadata": {
        "colab": {
          "base_uri": "https://localhost:8080/"
        },
        "id": "VQVGFX5R0bz-",
        "outputId": "befa6209-f419-4ec8-dcf3-9ab1294285da"
      },
      "execution_count": 11,
      "outputs": [
        {
          "output_type": "execute_result",
          "data": {
            "text/plain": [
              "(1, 8)"
            ]
          },
          "metadata": {},
          "execution_count": 11
        }
      ]
    },
    {
      "cell_type": "markdown",
      "source": [
        "# Takeaways from exercise:"
      ],
      "metadata": {
        "id": "2otcOLSZ4VOp"
      }
    },
    {
      "cell_type": "code",
      "source": [
        "def purple_shell(racers):\n",
        "    \"\"\"Given a list of racers, set the first place racer (at the front of the list) to last\n",
        "    place and vice versa.\n",
        "\n",
        "    >>> r = [\"Mario\", \"Bowser\", \"Luigi\"]\n",
        "    >>> purple_shell(r)\n",
        "    >>> r\n",
        "    [\"Luigi\", \"Bowser\", \"Mario\"]\n",
        "    \"\"\"\n",
        "    temp = racers[0]\n",
        "    racers[0] = racers[-1]\n",
        "    racers[-1] = temp\n",
        "    #IMP: One slick way to do the swap is x[0], x[-1] = x[-1], x[0]."
      ],
      "metadata": {
        "id": "PskjWX8b4bjf"
      },
      "execution_count": 12,
      "outputs": []
    },
    {
      "cell_type": "code",
      "source": [
        "def fashionably_late(arrivals, name):\n",
        "    \"\"\"Given an ordered list of arrivals to the party and a name,\n",
        "    return whether the guest with that name was fashionably late.\n",
        "    A guest is fashionably late if:\n",
        "    - They arrived in the second half of the list (not among the first half)\n",
        "    - They were not the last to arrive\n",
        "    \"\"\"\n",
        "\n",
        "    # Find the index at which the guest arrived\n",
        "    order = arrivals.index(name)\n",
        "\n",
        "    # Check if the guest arrived after at least half the guests,\n",
        "    # and make sure they are not the last to arrive\n",
        "    return order >= len(arrivals) / 2 and order != len(arrivals) - 1\n",
        "\n",
        "fashionably_late(['Paul', 'John', 'Ringo', 'George'],'Ringo')\n"
      ],
      "metadata": {
        "colab": {
          "base_uri": "https://localhost:8080/"
        },
        "id": "OuPPqiG0SJwG",
        "outputId": "62ea4a67-6123-4058-cae1-0b74dc22adce"
      },
      "execution_count": 13,
      "outputs": [
        {
          "output_type": "execute_result",
          "data": {
            "text/plain": [
              "True"
            ]
          },
          "metadata": {},
          "execution_count": 13
        }
      ]
    },
    {
      "cell_type": "markdown",
      "source": [
        "#Step-4: Loops and List Comprehensions:"
      ],
      "metadata": {
        "id": "W4EHEP-ER_bl"
      }
    }
  ]
}